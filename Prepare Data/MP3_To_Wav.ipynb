{
  "nbformat": 4,
  "nbformat_minor": 0,
  "metadata": {
    "colab": {
      "provenance": []
    },
    "kernelspec": {
      "name": "python3",
      "display_name": "Python 3"
    },
    "language_info": {
      "name": "python"
    }
  },
  "cells": [
    {
      "cell_type": "code",
      "source": [
        "!pip install pydub\n",
        "!apt-get install ffmpeg"
      ],
      "metadata": {
        "colab": {
          "base_uri": "https://localhost:8080/"
        },
        "id": "4BnLntFrrD-p",
        "outputId": "ea71f219-e747-4c9c-ed66-19495131bb3a"
      },
      "execution_count": null,
      "outputs": [
        {
          "output_type": "stream",
          "name": "stdout",
          "text": [
            "Requirement already satisfied: pydub in /usr/local/lib/python3.10/dist-packages (0.25.1)\n",
            "Reading package lists... Done\n",
            "Building dependency tree... Done\n",
            "Reading state information... Done\n",
            "ffmpeg is already the newest version (7:4.4.2-0ubuntu0.22.04.1).\n",
            "0 upgraded, 0 newly installed, 0 to remove and 49 not upgraded.\n"
          ]
        }
      ]
    },
    {
      "cell_type": "code",
      "source": [
        "import os\n",
        "import subprocess\n",
        "\n",
        "# Direktori input dan output di Google Drive\n",
        "input_dir = \"/content/drive/MyDrive/TUBES DL/Model/Download_Frog_Data/South_American_White-lipped_Grassfrog\"\n",
        "output_dir = \"/content/drive/MyDrive/South_WAV\"\n",
        "\n",
        "# Membuat folder output\n",
        "os.makedirs(output_dir, exist_ok=True)\n",
        "\n",
        "# Fungsi untuk mengonversi MP3 ke WAV menggunakan ffmpeg\n",
        "def convert_mp3_to_wav(mp3_file, output_dir):\n",
        "\n",
        "    base_name = os.path.basename(mp3_file).rsplit('.', 1)[0]\n",
        "    wav_file = os.path.join(output_dir, base_name + \".wav\")\n",
        "\n",
        "    # Perintah untuk mengonversi MP3 ke WAV menggunakan ffmpeg\n",
        "    command = ['ffmpeg', '-i', mp3_file, wav_file]\n",
        "\n",
        "    try:\n",
        "        subprocess.run(command, check=True)\n",
        "        print(f\"Converted: {mp3_file} -> {wav_file}\")\n",
        "    except subprocess.CalledProcessError as e:\n",
        "        print(f\"Error converting {mp3_file}: {e}\")\n",
        "\n",
        "# Proses semua file MP3 di direktori input\n",
        "for file_name in os.listdir(input_dir):\n",
        "    if file_name.endswith(\".mp3\"):\n",
        "        mp3_file = os.path.join(input_dir, file_name)\n",
        "        convert_mp3_to_wav(mp3_file, output_dir)"
      ],
      "metadata": {
        "colab": {
          "base_uri": "https://localhost:8080/"
        },
        "id": "TzHHSuGsqlPj",
        "outputId": "a3811aa3-3a60-4a45-ba1e-38788141efb6"
      },
      "execution_count": null,
      "outputs": [
        {
          "output_type": "stream",
          "name": "stdout",
          "text": [
            "Converted: /content/drive/MyDrive/TUBES DL/Model/Download_Frog_Data/South_American_White-lipped_Grassfrog/sample_1.mp3 -> /content/drive/MyDrive/South_WAV/sample_1.wav\n",
            "Converted: /content/drive/MyDrive/TUBES DL/Model/Download_Frog_Data/South_American_White-lipped_Grassfrog/sample_2.mp3 -> /content/drive/MyDrive/South_WAV/sample_2.wav\n",
            "Converted: /content/drive/MyDrive/TUBES DL/Model/Download_Frog_Data/South_American_White-lipped_Grassfrog/sample_3.mp3 -> /content/drive/MyDrive/South_WAV/sample_3.wav\n",
            "Converted: /content/drive/MyDrive/TUBES DL/Model/Download_Frog_Data/South_American_White-lipped_Grassfrog/sample_4.mp3 -> /content/drive/MyDrive/South_WAV/sample_4.wav\n",
            "Converted: /content/drive/MyDrive/TUBES DL/Model/Download_Frog_Data/South_American_White-lipped_Grassfrog/sample_5.mp3 -> /content/drive/MyDrive/South_WAV/sample_5.wav\n",
            "Converted: /content/drive/MyDrive/TUBES DL/Model/Download_Frog_Data/South_American_White-lipped_Grassfrog/sample_6.mp3 -> /content/drive/MyDrive/South_WAV/sample_6.wav\n",
            "Converted: /content/drive/MyDrive/TUBES DL/Model/Download_Frog_Data/South_American_White-lipped_Grassfrog/sample_7.mp3 -> /content/drive/MyDrive/South_WAV/sample_7.wav\n",
            "Converted: /content/drive/MyDrive/TUBES DL/Model/Download_Frog_Data/South_American_White-lipped_Grassfrog/sample_8.mp3 -> /content/drive/MyDrive/South_WAV/sample_8.wav\n",
            "Converted: /content/drive/MyDrive/TUBES DL/Model/Download_Frog_Data/South_American_White-lipped_Grassfrog/sample_9.mp3 -> /content/drive/MyDrive/South_WAV/sample_9.wav\n",
            "Converted: /content/drive/MyDrive/TUBES DL/Model/Download_Frog_Data/South_American_White-lipped_Grassfrog/sample_10.mp3 -> /content/drive/MyDrive/South_WAV/sample_10.wav\n"
          ]
        }
      ]
    }
  ]
}