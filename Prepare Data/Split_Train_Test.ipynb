{
  "nbformat": 4,
  "nbformat_minor": 0,
  "metadata": {
    "colab": {
      "provenance": []
    },
    "kernelspec": {
      "name": "python3",
      "display_name": "Python 3"
    },
    "language_info": {
      "name": "python"
    }
  },
  "cells": [
    {
      "cell_type": "code",
      "source": [
        "from google.colab import drive\n",
        "drive.mount('/content/drive')"
      ],
      "metadata": {
        "colab": {
          "base_uri": "https://localhost:8080/"
        },
        "id": "UnCrMOlolmLS",
        "outputId": "2b750894-2e3e-43bd-e8e4-efb37c8e50fa"
      },
      "execution_count": 3,
      "outputs": [
        {
          "output_type": "stream",
          "name": "stdout",
          "text": [
            "Mounted at /content/drive\n"
          ]
        }
      ]
    },
    {
      "cell_type": "code",
      "source": [
        "import os\n",
        "import random\n",
        "from sklearn.model_selection import train_test_split\n",
        "import shutil"
      ],
      "metadata": {
        "id": "WANm95jtl4Z6"
      },
      "execution_count": 1,
      "outputs": []
    },
    {
      "cell_type": "code",
      "execution_count": null,
      "metadata": {
        "id": "aAizpBcrKWVU",
        "colab": {
          "base_uri": "https://localhost:8080/"
        },
        "outputId": "d64f9809-e3c4-42b2-ce03-4517db2f1d06"
      },
      "outputs": [
        {
          "output_type": "stream",
          "name": "stdout",
          "text": [
            "Dataset berhasil dibagi secara seimbang ke dalam train (80%), val (10%), dan test (10%).\n"
          ]
        }
      ],
      "source": [
        "import os\n",
        "import shutil\n",
        "from collections import defaultdict\n",
        "import random\n",
        "\n",
        "# Path ke folder tempat file MFCC disimpan\n",
        "mfcc_folder = '/content/drive/MyDrive/TUBES DL/Persiapan Data/Dataset/MFCC'\n",
        "split_folder = '/content/drive/MyDrive/TUBES DL/Persiapan Data/Dataset/Test_Train_Val'\n",
        "\n",
        "# Buat folder untuk train, val, test\n",
        "for split in ['train', 'val', 'test']:\n",
        "    os.makedirs(os.path.join(split_folder, split), exist_ok=True)\n",
        "\n",
        "# Ambil semua file .npy dalam folder MFCC\n",
        "mfcc_files = [f for f in os.listdir(mfcc_folder) if f.endswith('.npy')]\n",
        "\n",
        "# Kategorikan file berdasarkan kelas\n",
        "class_files = defaultdict(list)\n",
        "for file in mfcc_files:\n",
        "    class_name = file.split('_')[0]  # Ambil nama kelas dari file\n",
        "    class_files[class_name].append(file)\n",
        "\n",
        "# Tentukan jumlah file yang paling sedikit di antara semua kelas\n",
        "min_class_files = min(len(files) for files in class_files.values())\n",
        "\n",
        "# Split setiap kelas ke train, val, test dengan sampling\n",
        "train_files, val_files, test_files = [], [], []\n",
        "\n",
        "for class_name, files in class_files.items():\n",
        "    # Shuffle file untuk memastikan distribusi acak\n",
        "    random.shuffle(files)\n",
        "    # Ambil hanya `min_class_files` file dari setiap kelas\n",
        "    selected_files = files[:min_class_files]\n",
        "\n",
        "    # Bagi file sesuai proporsi 80/10/10\n",
        "    train_split = int(0.8 * min_class_files)\n",
        "    val_split = int(0.1 * min_class_files)\n",
        "\n",
        "    train_files.extend(selected_files[:train_split])\n",
        "    val_files.extend(selected_files[train_split:train_split + val_split])\n",
        "    test_files.extend(selected_files[train_split + val_split:])\n",
        "\n",
        "# Pindahkan file ke folder yang sesuai\n",
        "for file in train_files:\n",
        "    shutil.copy(os.path.join(mfcc_folder, file), os.path.join(split_folder, 'train', file))\n",
        "\n",
        "for file in val_files:\n",
        "    shutil.copy(os.path.join(mfcc_folder, file), os.path.join(split_folder, 'val', file))\n",
        "\n",
        "for file in test_files:\n",
        "    shutil.copy(os.path.join(mfcc_folder, file), os.path.join(split_folder, 'test', file))\n",
        "\n",
        "print(\"Dataset berhasil dibagi secara seimbang ke dalam train (80%), val (10%), dan test (10%).\")"
      ]
    },
    {
      "cell_type": "code",
      "source": [
        "from collections import Counter\n",
        "import os\n",
        "\n",
        "mfcc_folder = '/content/drive/MyDrive/TUBES DL/Persiapan Data/Dataset/MFCC'\n",
        "split_folder = '/content/drive/MyDrive/TUBES DL/Persiapan Data/Dataset/Test_Train_Val'  # Tempat folder split\n",
        "\n",
        "# Cek distribusi kelas dalam train, val, dan test\n",
        "splits = ['train', 'val', 'test']\n",
        "\n",
        "# Update label_dict dengan kelas kodok tambahan\n",
        "label_dict = {\n",
        "            'Boana': 0,\n",
        "            'Pool': 1,\n",
        "            'PepperFrog': 2,\n",
        "            'South': 3,\n",
        "            'Dendropsophus': 4,\n",
        "            'Leptodactylus': 5,\n",
        "            'Rana': 6,\n",
        "            'Rhinella': 7,\n",
        "            'Scinax': 8\n",
        "}\n",
        "\n",
        "for split in splits:\n",
        "    split_path = os.path.join(split_folder, split)\n",
        "    class_counts = Counter([file.split('_')[0] for file in os.listdir(split_path)])\n",
        "    print(f\"Distribusi kelas di {split}:\")\n",
        "    for class_name, count in class_counts.items():\n",
        "        print(f\"  {class_name}: {count}\")"
      ],
      "metadata": {
        "colab": {
          "base_uri": "https://localhost:8080/"
        },
        "id": "0FCdThAulqN3",
        "outputId": "55f3fb80-3801-4e35-c423-2d85835665ba"
      },
      "execution_count": 4,
      "outputs": [
        {
          "output_type": "stream",
          "name": "stdout",
          "text": [
            "Distribusi kelas di train:\n",
            "  Rhinella: 74\n",
            "  Scinax: 74\n",
            "  Rana: 74\n",
            "  South: 74\n",
            "  Dendropsophus: 74\n",
            "  Leptodactylus: 74\n",
            "  Pool: 74\n",
            "  PepperFrog: 74\n",
            "  Boana: 74\n",
            "Distribusi kelas di val:\n",
            "  Rhinella: 9\n",
            "  Scinax: 9\n",
            "  Rana: 9\n",
            "  South: 9\n",
            "  Dendropsophus: 9\n",
            "  Leptodactylus: 9\n",
            "  Pool: 9\n",
            "  PepperFrog: 9\n",
            "  Boana: 9\n",
            "Distribusi kelas di test:\n",
            "  Rhinella: 10\n",
            "  Scinax: 10\n",
            "  Rana: 10\n",
            "  South: 10\n",
            "  Dendropsophus: 10\n",
            "  Leptodactylus: 10\n",
            "  Pool: 10\n",
            "  PepperFrog: 10\n",
            "  Boana: 10\n"
          ]
        }
      ]
    }
  ]
}